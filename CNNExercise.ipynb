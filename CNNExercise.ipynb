{
  "nbformat": 4,
  "nbformat_minor": 0,
  "metadata": {
    "colab": {
      "name": "CNNExercise.ipynb",
      "provenance": [],
      "authorship_tag": "ABX9TyPXrMYQXXok/YEH66h6w2UY",
      "include_colab_link": true
    },
    "kernelspec": {
      "name": "python3",
      "display_name": "Python 3"
    },
    "language_info": {
      "name": "python"
    },
    "accelerator": "GPU"
  },
  "cells": [
    {
      "cell_type": "markdown",
      "metadata": {
        "id": "view-in-github",
        "colab_type": "text"
      },
      "source": [
        "<a href=\"https://colab.research.google.com/github/TanChen168/Week11_IntroductionToDeepLearning/blob/main/CNNExercise.ipynb\" target=\"_parent\"><img src=\"https://colab.research.google.com/assets/colab-badge.svg\" alt=\"Open In Colab\"/></a>"
      ]
    },
    {
      "cell_type": "code",
      "execution_count": 2,
      "metadata": {
        "id": "EJ6eMdz2PnyU"
      },
      "outputs": [],
      "source": [
        "# Imports\n",
        "import numpy as np\n",
        "import matplotlib.pyplot as plt\n",
        "import pandas as pd\n",
        "from sklearn.preprocessing import StandardScaler\n",
        "from tensorflow.keras.models import Sequential\n",
        "from tensorflow.keras.layers import Dense, Flatten, Conv2D, MaxPooling2D\n",
        "from tensorflow.keras.utils import to_categorical\n",
        "from tensorflow.keras.datasets import fashion_mnist"
      ]
    },
    {
      "cell_type": "code",
      "source": [
        "(X_train, y_train), (X_test, y_test)  = fashion_mnist.load_data()"
      ],
      "metadata": {
        "id": "nxiO6pHgPxYw",
        "colab": {
          "base_uri": "https://localhost:8080/"
        },
        "outputId": "72bf969e-61a2-4915-fbf6-1d775df980f4"
      },
      "execution_count": 3,
      "outputs": [
        {
          "output_type": "stream",
          "name": "stdout",
          "text": [
            "Downloading data from https://storage.googleapis.com/tensorflow/tf-keras-datasets/train-labels-idx1-ubyte.gz\n",
            "32768/29515 [=================================] - 0s 0us/step\n",
            "40960/29515 [=========================================] - 0s 0us/step\n",
            "Downloading data from https://storage.googleapis.com/tensorflow/tf-keras-datasets/train-images-idx3-ubyte.gz\n",
            "26427392/26421880 [==============================] - 0s 0us/step\n",
            "26435584/26421880 [==============================] - 0s 0us/step\n",
            "Downloading data from https://storage.googleapis.com/tensorflow/tf-keras-datasets/t10k-labels-idx1-ubyte.gz\n",
            "16384/5148 [===============================================================================================] - 0s 0us/step\n",
            "Downloading data from https://storage.googleapis.com/tensorflow/tf-keras-datasets/t10k-images-idx3-ubyte.gz\n",
            "4423680/4422102 [==============================] - 0s 0us/step\n",
            "4431872/4422102 [==============================] - 0s 0us/step\n"
          ]
        }
      ]
    },
    {
      "cell_type": "code",
      "source": [
        "#X_train = X_train.shape\n",
        "X_train.shape"
      ],
      "metadata": {
        "colab": {
          "base_uri": "https://localhost:8080/"
        },
        "id": "wZXTJycrP4OF",
        "outputId": "967c551c-27b8-448d-8644-f5140e3a8c06"
      },
      "execution_count": 6,
      "outputs": [
        {
          "output_type": "execute_result",
          "data": {
            "text/plain": [
              "(60000, 28, 28)"
            ]
          },
          "metadata": {},
          "execution_count": 6
        }
      ]
    },
    {
      "cell_type": "code",
      "source": [
        "# Scale data between 0 and 1\n",
        "X_train = X_train / 255\n",
        "X_test = X_test / 255"
      ],
      "metadata": {
        "id": "SOJb5cWstigf"
      },
      "execution_count": 7,
      "outputs": []
    },
    {
      "cell_type": "code",
      "source": [
        "# Reshape data\n",
        "X_train = X_train.reshape(X_train.shape[0], 28, 28, 1)\n",
        "X_test = X_test.reshape(X_test.shape[0], 28, 28, 1)"
      ],
      "metadata": {
        "id": "3TKOFyI327bE"
      },
      "execution_count": 8,
      "outputs": []
    },
    {
      "cell_type": "code",
      "source": [
        "y_train = to_categorical(y_train, num_classes = 10)\n",
        "y_test = to_categorical(y_test, num_classes = 10)"
      ],
      "metadata": {
        "id": "hD41M5gU3L-I"
      },
      "execution_count": 9,
      "outputs": []
    },
    {
      "cell_type": "code",
      "source": [
        "input_shape = X_train.shape[1:4]\n",
        "input_shape"
      ],
      "metadata": {
        "colab": {
          "base_uri": "https://localhost:8080/"
        },
        "id": "A3K58onZ3NHF",
        "outputId": "f2d2561f-bd19-428a-9477-d30dc6c687ee"
      },
      "execution_count": 10,
      "outputs": [
        {
          "output_type": "execute_result",
          "data": {
            "text/plain": [
              "(28, 28, 1)"
            ]
          },
          "metadata": {},
          "execution_count": 10
        }
      ]
    },
    {
      "cell_type": "code",
      "source": [
        "model = Sequential()"
      ],
      "metadata": {
        "id": "B-viVQsq3vO9"
      },
      "execution_count": 11,
      "outputs": []
    },
    {
      "cell_type": "code",
      "source": [
        "# Convolutional layer\n",
        "model.add(Conv2D(filters = 8, # How many filters you want to use\n",
        "                 kernel_size = 3, # size of each filter\n",
        "                 activation = 'relu',\n",
        "                 input_shape = input_shape)) # What is the shape of your input features (we defined this above)\n",
        "\n",
        "# Pooling layer\n",
        "model.add(MaxPooling2D(pool_size = 2)) # Size of pooling\n",
        "\n",
        "# Flattening layer\n",
        "model.add(Flatten())\n",
        "# Output layer\n",
        "\n",
        "model.add(Dense(10, # How many output possibilities we have\n",
        "                activation = 'softmax')) # What activation function are you using?"
      ],
      "metadata": {
        "id": "d_-tho-a4OBE"
      },
      "execution_count": 12,
      "outputs": []
    },
    {
      "cell_type": "code",
      "source": [
        "# Step 2: Compile\n",
        "model.compile(loss = 'categorical_crossentropy', optimizer = 'adam', metrics = ['acc'])"
      ],
      "metadata": {
        "id": "BmRCI8vJ4Stj"
      },
      "execution_count": 13,
      "outputs": []
    },
    {
      "cell_type": "code",
      "source": [
        "# Step 3: Fit our model\n",
        "history = model.fit(X_train, y_train,\n",
        "                    validation_data = (X_test, y_test), \n",
        "                    epochs=20)"
      ],
      "metadata": {
        "colab": {
          "base_uri": "https://localhost:8080/"
        },
        "id": "3LxogyJ64V75",
        "outputId": "08d8b910-9af7-45f8-d3f5-278a07eaffde"
      },
      "execution_count": 14,
      "outputs": [
        {
          "output_type": "stream",
          "name": "stdout",
          "text": [
            "Epoch 1/20\n",
            "1875/1875 [==============================] - 17s 5ms/step - loss: 1.3713 - acc: 0.5947 - val_loss: 0.8508 - val_acc: 0.7062\n",
            "Epoch 2/20\n",
            "1875/1875 [==============================] - 8s 4ms/step - loss: 0.7442 - acc: 0.7478 - val_loss: 0.6984 - val_acc: 0.7522\n",
            "Epoch 3/20\n",
            "1875/1875 [==============================] - 8s 4ms/step - loss: 0.6460 - acc: 0.7707 - val_loss: 0.6453 - val_acc: 0.7632\n",
            "Epoch 4/20\n",
            "1875/1875 [==============================] - 8s 4ms/step - loss: 0.6019 - acc: 0.7836 - val_loss: 0.6112 - val_acc: 0.7776\n",
            "Epoch 5/20\n",
            "1875/1875 [==============================] - 8s 4ms/step - loss: 0.5751 - acc: 0.7936 - val_loss: 0.5914 - val_acc: 0.7815\n",
            "Epoch 6/20\n",
            "1875/1875 [==============================] - 8s 4ms/step - loss: 0.5561 - acc: 0.8003 - val_loss: 0.5782 - val_acc: 0.7880\n",
            "Epoch 7/20\n",
            "1875/1875 [==============================] - 8s 4ms/step - loss: 0.5421 - acc: 0.8070 - val_loss: 0.5638 - val_acc: 0.7979\n",
            "Epoch 8/20\n",
            "1875/1875 [==============================] - 8s 4ms/step - loss: 0.5305 - acc: 0.8112 - val_loss: 0.5509 - val_acc: 0.8021\n",
            "Epoch 9/20\n",
            "1875/1875 [==============================] - 8s 4ms/step - loss: 0.5208 - acc: 0.8152 - val_loss: 0.5451 - val_acc: 0.8056\n",
            "Epoch 10/20\n",
            "1875/1875 [==============================] - 8s 5ms/step - loss: 0.5122 - acc: 0.8185 - val_loss: 0.5376 - val_acc: 0.8066\n",
            "Epoch 11/20\n",
            "1875/1875 [==============================] - 8s 4ms/step - loss: 0.5055 - acc: 0.8197 - val_loss: 0.5311 - val_acc: 0.8107\n",
            "Epoch 12/20\n",
            "1875/1875 [==============================] - 8s 4ms/step - loss: 0.4999 - acc: 0.8239 - val_loss: 0.5270 - val_acc: 0.8126\n",
            "Epoch 13/20\n",
            "1875/1875 [==============================] - 8s 4ms/step - loss: 0.4947 - acc: 0.8260 - val_loss: 0.5217 - val_acc: 0.8155\n",
            "Epoch 14/20\n",
            "1875/1875 [==============================] - 8s 4ms/step - loss: 0.4902 - acc: 0.8274 - val_loss: 0.5193 - val_acc: 0.8167\n",
            "Epoch 15/20\n",
            "1875/1875 [==============================] - 8s 4ms/step - loss: 0.4866 - acc: 0.8291 - val_loss: 0.5198 - val_acc: 0.8148\n",
            "Epoch 16/20\n",
            "1875/1875 [==============================] - 8s 4ms/step - loss: 0.4827 - acc: 0.8307 - val_loss: 0.5146 - val_acc: 0.8171\n",
            "Epoch 17/20\n",
            "1875/1875 [==============================] - 8s 4ms/step - loss: 0.4804 - acc: 0.8318 - val_loss: 0.5106 - val_acc: 0.8196\n",
            "Epoch 18/20\n",
            "1875/1875 [==============================] - 8s 4ms/step - loss: 0.4775 - acc: 0.8315 - val_loss: 0.5109 - val_acc: 0.8204\n",
            "Epoch 19/20\n",
            "1875/1875 [==============================] - 8s 4ms/step - loss: 0.4749 - acc: 0.8342 - val_loss: 0.5101 - val_acc: 0.8200\n",
            "Epoch 20/20\n",
            "1875/1875 [==============================] - 8s 4ms/step - loss: 0.4721 - acc: 0.8347 - val_loss: 0.5030 - val_acc: 0.8185\n"
          ]
        }
      ]
    },
    {
      "cell_type": "code",
      "source": [
        "# Visualize the loss\n",
        "plt.plot(history.history['loss'], label='Train loss')\n",
        "plt.plot(history.history['val_loss'], label='Test Loss')\n",
        "plt.legend();"
      ],
      "metadata": {
        "colab": {
          "base_uri": "https://localhost:8080/",
          "height": 266
        },
        "id": "7FKZGKWB9JLz",
        "outputId": "a2244722-624e-480e-94e5-917b7961a72b"
      },
      "execution_count": 15,
      "outputs": [
        {
          "output_type": "display_data",
          "data": {
            "image/png": "[encoded data removed]",
            "text/plain": [
              "<Figure size 432x288 with 1 Axes>"
            ]
          },
          "metadata": {
            "needs_background": "light"
          }
        }
      ]
    },
    {
      "cell_type": "code",
      "source": [
        "# Visualize the accuracy\n",
        "plt.plot(history.history['acc'], label='Train Accuracy')\n",
        "plt.plot(history.history['val_acc'], label='Test Accuracy')\n",
        "plt.legend();"
      ],
      "metadata": {
        "colab": {
          "base_uri": "https://localhost:8080/",
          "height": 265
        },
        "id": "NHKKnxnX9LAw",
        "outputId": "df454caa-5089-4352-988d-02f7c3ab07ca"
      },
      "execution_count": 16,
      "outputs": [
        {
          "output_type": "display_data",
          "data": {
            "image/png": "[encoded data removed]",
            "text/plain": [
              "<Figure size 432x288 with 1 Axes>"
            ]
          },
          "metadata": {
            "needs_background": "light"
          }
        }
      ]
    }
  ]
}